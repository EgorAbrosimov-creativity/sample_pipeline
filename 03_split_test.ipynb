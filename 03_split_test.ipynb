{
 "cells": [
  {
   "cell_type": "markdown",
   "id": "71301fa4",
   "metadata": {},
   "source": [
    "# Imports"
   ]
  },
  {
   "cell_type": "code",
   "execution_count": 1,
   "id": "c670517f",
   "metadata": {},
   "outputs": [],
   "source": [
    "import pandas as pd\n",
    "from sklearn.model_selection import train_test_split"
   ]
  },
  {
   "cell_type": "markdown",
   "id": "df40f487",
   "metadata": {},
   "source": [
    "# Load data"
   ]
  },
  {
   "cell_type": "code",
   "execution_count": 2,
   "id": "efeafe26",
   "metadata": {},
   "outputs": [
    {
     "data": {
      "text/html": [
       "<div>\n",
       "<style scoped>\n",
       "    .dataframe tbody tr th:only-of-type {\n",
       "        vertical-align: middle;\n",
       "    }\n",
       "\n",
       "    .dataframe tbody tr th {\n",
       "        vertical-align: top;\n",
       "    }\n",
       "\n",
       "    .dataframe thead th {\n",
       "        text-align: right;\n",
       "    }\n",
       "</style>\n",
       "<table border=\"1\" class=\"dataframe\">\n",
       "  <thead>\n",
       "    <tr style=\"text-align: right;\">\n",
       "      <th></th>\n",
       "      <th>Description</th>\n",
       "      <th>Category</th>\n",
       "      <th>Amount</th>\n",
       "      <th>Currency</th>\n",
       "    </tr>\n",
       "  </thead>\n",
       "  <tbody>\n",
       "    <tr>\n",
       "      <th>0</th>\n",
       "      <td>-100.00 EUR to Mohammad Umair</td>\n",
       "      <td>Nonbusiness costs</td>\n",
       "      <td>-100.00</td>\n",
       "      <td>EUR</td>\n",
       "    </tr>\n",
       "    <tr>\n",
       "      <th>1</th>\n",
       "      <td>invoice 13455101</td>\n",
       "      <td>Transfer</td>\n",
       "      <td>-40.69</td>\n",
       "      <td>EUR</td>\n",
       "    </tr>\n",
       "    <tr>\n",
       "      <th>2</th>\n",
       "      <td>-1485.00 EUR to GoCardless</td>\n",
       "      <td>Loans/ Debts</td>\n",
       "      <td>-1485.00</td>\n",
       "      <td>EUR</td>\n",
       "    </tr>\n",
       "    <tr>\n",
       "      <th>3</th>\n",
       "      <td>2200.00 EUR to UA Trading Company</td>\n",
       "      <td>Inventory / Equipment</td>\n",
       "      <td>2200.00</td>\n",
       "      <td>EUR</td>\n",
       "    </tr>\n",
       "    <tr>\n",
       "      <th>4</th>\n",
       "      <td>Gulf Groningen Hoendie Groningen, Nl</td>\n",
       "      <td>Nonbusiness costs</td>\n",
       "      <td>-50.00</td>\n",
       "      <td>EUR</td>\n",
       "    </tr>\n",
       "    <tr>\n",
       "      <th>...</th>\n",
       "      <td>...</td>\n",
       "      <td>...</td>\n",
       "      <td>...</td>\n",
       "      <td>...</td>\n",
       "    </tr>\n",
       "    <tr>\n",
       "      <th>7813</th>\n",
       "      <td>Dk-Ind15.03</td>\n",
       "      <td>Sale of Goods</td>\n",
       "      <td>1278.40</td>\n",
       "      <td>DKK</td>\n",
       "    </tr>\n",
       "    <tr>\n",
       "      <th>7814</th>\n",
       "      <td>Dk3dsf15.03</td>\n",
       "      <td>Sale of Goods</td>\n",
       "      <td>1367.28</td>\n",
       "      <td>DKK</td>\n",
       "    </tr>\n",
       "    <tr>\n",
       "      <th>7815</th>\n",
       "      <td>Dk3dsf15.03</td>\n",
       "      <td>Sale of Goods</td>\n",
       "      <td>1654.20</td>\n",
       "      <td>DKK</td>\n",
       "    </tr>\n",
       "    <tr>\n",
       "      <th>7816</th>\n",
       "      <td>Dk3dsf15.03</td>\n",
       "      <td>Sale of Goods</td>\n",
       "      <td>2525.65</td>\n",
       "      <td>DKK</td>\n",
       "    </tr>\n",
       "    <tr>\n",
       "      <th>7817</th>\n",
       "      <td>Dk-Ind15.03</td>\n",
       "      <td>Sale of Goods</td>\n",
       "      <td>4484.85</td>\n",
       "      <td>DKK</td>\n",
       "    </tr>\n",
       "  </tbody>\n",
       "</table>\n",
       "<p>7818 rows × 4 columns</p>\n",
       "</div>"
      ],
      "text/plain": [
       "                               Description               Category   Amount  \\\n",
       "0            -100.00 EUR to Mohammad Umair      Nonbusiness costs  -100.00   \n",
       "1                         invoice 13455101               Transfer   -40.69   \n",
       "2               -1485.00 EUR to GoCardless           Loans/ Debts -1485.00   \n",
       "3        2200.00 EUR to UA Trading Company  Inventory / Equipment  2200.00   \n",
       "4     Gulf Groningen Hoendie Groningen, Nl      Nonbusiness costs   -50.00   \n",
       "...                                    ...                    ...      ...   \n",
       "7813                           Dk-Ind15.03          Sale of Goods  1278.40   \n",
       "7814                           Dk3dsf15.03          Sale of Goods  1367.28   \n",
       "7815                           Dk3dsf15.03          Sale of Goods  1654.20   \n",
       "7816                           Dk3dsf15.03          Sale of Goods  2525.65   \n",
       "7817                           Dk-Ind15.03          Sale of Goods  4484.85   \n",
       "\n",
       "     Currency  \n",
       "0         EUR  \n",
       "1         EUR  \n",
       "2         EUR  \n",
       "3         EUR  \n",
       "4         EUR  \n",
       "...       ...  \n",
       "7813      DKK  \n",
       "7814      DKK  \n",
       "7815      DKK  \n",
       "7816      DKK  \n",
       "7817      DKK  \n",
       "\n",
       "[7818 rows x 4 columns]"
      ]
     },
     "execution_count": 2,
     "metadata": {},
     "output_type": "execute_result"
    }
   ],
   "source": [
    "df = pd.read_csv('data/processed/concat.csv')\n",
    "df"
   ]
  },
  {
   "cell_type": "markdown",
   "id": "e1e6d401",
   "metadata": {},
   "source": [
    "# Split test"
   ]
  },
  {
   "cell_type": "code",
   "execution_count": 3,
   "id": "eb5fa1aa",
   "metadata": {},
   "outputs": [
    {
     "data": {
      "text/plain": [
       "(7036, 4)"
      ]
     },
     "metadata": {},
     "output_type": "display_data"
    },
    {
     "data": {
      "text/plain": [
       "(782, 4)"
      ]
     },
     "metadata": {},
     "output_type": "display_data"
    },
    {
     "data": {
      "text/html": [
       "<div>\n",
       "<style scoped>\n",
       "    .dataframe tbody tr th:only-of-type {\n",
       "        vertical-align: middle;\n",
       "    }\n",
       "\n",
       "    .dataframe tbody tr th {\n",
       "        vertical-align: top;\n",
       "    }\n",
       "\n",
       "    .dataframe thead th {\n",
       "        text-align: right;\n",
       "    }\n",
       "</style>\n",
       "<table border=\"1\" class=\"dataframe\">\n",
       "  <thead>\n",
       "    <tr style=\"text-align: right;\">\n",
       "      <th></th>\n",
       "      <th>Description</th>\n",
       "      <th>Category</th>\n",
       "      <th>Amount</th>\n",
       "      <th>Currency</th>\n",
       "    </tr>\n",
       "  </thead>\n",
       "  <tbody>\n",
       "    <tr>\n",
       "      <th>7454</th>\n",
       "      <td>Dk-Ind29.03</td>\n",
       "      <td>Sale of Goods</td>\n",
       "      <td>1210.90</td>\n",
       "      <td>DKK</td>\n",
       "    </tr>\n",
       "    <tr>\n",
       "      <th>327</th>\n",
       "      <td>B20230618X002HJX000666628738 0030014291298480 ...</td>\n",
       "      <td>Nonbusiness costs</td>\n",
       "      <td>-6.59</td>\n",
       "      <td>EUR</td>\n",
       "    </tr>\n",
       "    <tr>\n",
       "      <th>3185</th>\n",
       "      <td>Dk3dsf17.08</td>\n",
       "      <td>Sale of Goods</td>\n",
       "      <td>826.20</td>\n",
       "      <td>DKK</td>\n",
       "    </tr>\n",
       "    <tr>\n",
       "      <th>5675</th>\n",
       "      <td>Dk-Ind01.06</td>\n",
       "      <td>Sale of Goods</td>\n",
       "      <td>481.95</td>\n",
       "      <td>DKK</td>\n",
       "    </tr>\n",
       "    <tr>\n",
       "      <th>3466</th>\n",
       "      <td>Dk-Ind09.08</td>\n",
       "      <td>Sale of Goods</td>\n",
       "      <td>796.05</td>\n",
       "      <td>DKK</td>\n",
       "    </tr>\n",
       "  </tbody>\n",
       "</table>\n",
       "</div>"
      ],
      "text/plain": [
       "                                            Description           Category  \\\n",
       "7454                                        Dk-Ind29.03      Sale of Goods   \n",
       "327   B20230618X002HJX000666628738 0030014291298480 ...  Nonbusiness costs   \n",
       "3185                                        Dk3dsf17.08      Sale of Goods   \n",
       "5675                                        Dk-Ind01.06      Sale of Goods   \n",
       "3466                                        Dk-Ind09.08      Sale of Goods   \n",
       "\n",
       "       Amount Currency  \n",
       "7454  1210.90      DKK  \n",
       "327     -6.59      EUR  \n",
       "3185   826.20      DKK  \n",
       "5675   481.95      DKK  \n",
       "3466   796.05      DKK  "
      ]
     },
     "metadata": {},
     "output_type": "display_data"
    },
    {
     "data": {
      "text/html": [
       "<div>\n",
       "<style scoped>\n",
       "    .dataframe tbody tr th:only-of-type {\n",
       "        vertical-align: middle;\n",
       "    }\n",
       "\n",
       "    .dataframe tbody tr th {\n",
       "        vertical-align: top;\n",
       "    }\n",
       "\n",
       "    .dataframe thead th {\n",
       "        text-align: right;\n",
       "    }\n",
       "</style>\n",
       "<table border=\"1\" class=\"dataframe\">\n",
       "  <thead>\n",
       "    <tr style=\"text-align: right;\">\n",
       "      <th></th>\n",
       "      <th>Description</th>\n",
       "      <th>Category</th>\n",
       "      <th>Amount</th>\n",
       "      <th>Currency</th>\n",
       "    </tr>\n",
       "  </thead>\n",
       "  <tbody>\n",
       "    <tr>\n",
       "      <th>2911</th>\n",
       "      <td>FACEBK NN4B7FPTK2, fb.me/ads</td>\n",
       "      <td>Marketing and advertising</td>\n",
       "      <td>0.00</td>\n",
       "      <td>DKK</td>\n",
       "    </tr>\n",
       "    <tr>\n",
       "      <th>4299</th>\n",
       "      <td>Postering</td>\n",
       "      <td>Shipping &amp; Logistics</td>\n",
       "      <td>-105.00</td>\n",
       "      <td>DKK</td>\n",
       "    </tr>\n",
       "    <tr>\n",
       "      <th>769</th>\n",
       "      <td>Clearing: CLEARING-20234416133 (period Apr 202...</td>\n",
       "      <td>Sale of Goods</td>\n",
       "      <td>564.45</td>\n",
       "      <td>EUR</td>\n",
       "    </tr>\n",
       "    <tr>\n",
       "      <th>4795</th>\n",
       "      <td>Dk-Ind03.07</td>\n",
       "      <td>Sale of Goods</td>\n",
       "      <td>648.00</td>\n",
       "      <td>DKK</td>\n",
       "    </tr>\n",
       "    <tr>\n",
       "      <th>1720</th>\n",
       "      <td>Advertising</td>\n",
       "      <td>Marketing and advertising</td>\n",
       "      <td>0.00</td>\n",
       "      <td>DKK</td>\n",
       "    </tr>\n",
       "  </tbody>\n",
       "</table>\n",
       "</div>"
      ],
      "text/plain": [
       "                                            Description  \\\n",
       "2911                       FACEBK NN4B7FPTK2, fb.me/ads   \n",
       "4299                                          Postering   \n",
       "769   Clearing: CLEARING-20234416133 (period Apr 202...   \n",
       "4795                                        Dk-Ind03.07   \n",
       "1720                                        Advertising   \n",
       "\n",
       "                       Category  Amount Currency  \n",
       "2911  Marketing and advertising    0.00      DKK  \n",
       "4299       Shipping & Logistics -105.00      DKK  \n",
       "769               Sale of Goods  564.45      EUR  \n",
       "4795              Sale of Goods  648.00      DKK  \n",
       "1720  Marketing and advertising    0.00      DKK  "
      ]
     },
     "metadata": {},
     "output_type": "display_data"
    }
   ],
   "source": [
    "df_train, df_test = train_test_split(df, test_size=0.1, random_state=10)\n",
    "display(\n",
    "    df_train.shape, df_test.shape\n",
    "    , df_train.head(), df_test.head()\n",
    ")"
   ]
  },
  {
   "cell_type": "markdown",
   "id": "d1cb2d07",
   "metadata": {},
   "source": [
    "# Save"
   ]
  },
  {
   "cell_type": "code",
   "execution_count": 4,
   "id": "da4bde6c",
   "metadata": {},
   "outputs": [],
   "source": [
    "df_train.to_csv('data/processed/train.csv', index=False)"
   ]
  },
  {
   "cell_type": "code",
   "execution_count": 5,
   "id": "10f36ec5",
   "metadata": {},
   "outputs": [],
   "source": [
    "df_test.to_csv('data/processed/test.csv', index=False)"
   ]
  },
  {
   "cell_type": "code",
   "execution_count": null,
   "id": "bf89b070",
   "metadata": {},
   "outputs": [],
   "source": []
  }
 ],
 "metadata": {
  "kernelspec": {
   "display_name": "Python [conda env:perfsol] *",
   "language": "python",
   "name": "conda-env-perfsol-py"
  },
  "language_info": {
   "codemirror_mode": {
    "name": "ipython",
    "version": 3
   },
   "file_extension": ".py",
   "mimetype": "text/x-python",
   "name": "python",
   "nbconvert_exporter": "python",
   "pygments_lexer": "ipython3",
   "version": "3.8.18"
  }
 },
 "nbformat": 4,
 "nbformat_minor": 5
}
